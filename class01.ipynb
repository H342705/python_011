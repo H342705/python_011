{
 "cells": [
  {
   "cell_type": "markdown",
   "metadata": {},
   "source": [
    "## First class Topics\n",
    "* Environment setup\n",
    "* Variables Introduction\n",
    "* Basic Data Types\n",
    "    * String\n",
    "    * Integers\n",
    "    * Boolean"
   ]
  }
 ],
 "metadata": {
  "kernelspec": {
   "display_name": "Python 3",
   "language": "python",
   "name": "python3"
  },
  "language_info": {
   "name": "python",
   "version": "3.12.0"
  }
 },
 "nbformat": 4,
 "nbformat_minor": 2
}
