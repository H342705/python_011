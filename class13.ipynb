{
 "cells": [
  {
   "cell_type": "markdown",
   "metadata": {},
   "source": [
    "## Today Topics\n",
    "* intro to class\n",
    "    * oop (object oriented programming)\n",
    "* syntax of class\n",
    "* class attributes\n",
    "* class methods\n",
    "* class inheritance"
   ]
  },
  {
   "cell_type": "code",
   "execution_count": 2,
   "metadata": {},
   "outputs": [
    {
     "name": "stdout",
     "output_type": "stream",
     "text": [
      "person1  hamza\n",
      "person2  hamza\n"
     ]
    }
   ],
   "source": [
    "## first we will create a class\n",
    "## second then we will create a object of that class\n",
    "# syntax of a class\n",
    "    #  used class name\n",
    "    # class name first letter be a capital\n",
    "\n",
    "class Person:\n",
    "    name = \"hamza\"\n",
    "\n",
    "# calling of class means to create an object of that class\n",
    "person1 = Person() ## now person1 is an object of class Person\n",
    "## now we can access all data of the class through its object\n",
    "print(\"person1 \" ,person1.name)\n",
    "## now we creating another object\n",
    "person2 = Person()\n",
    "print(\"person2 \",person2.name)"
   ]
  },
  {
   "cell_type": "code",
   "execution_count": 3,
   "metadata": {},
   "outputs": [
    {
     "data": {
      "text/plain": [
       "'hamza'"
      ]
     },
     "execution_count": 3,
     "metadata": {},
     "output_type": "execute_result"
    }
   ],
   "source": [
    "## creating a class with contructor, __init__ function will automatically called when we create an object of that class\n",
    "## we must pass some parameter name to __init__ function, using that name we will create variables and used\n",
    "## convention regarding to parameter name may be \"self\"\n",
    "class Person:\n",
    "    def __init__(s):\n",
    "        s.name = \"hamza\"\n",
    "\n",
    "person1 = Person()\n",
    "person1.name"
   ]
  },
  {
   "cell_type": "markdown",
   "metadata": {},
   "source": [
    "### class attributes & methods"
   ]
  },
  {
   "cell_type": "code",
   "execution_count": 5,
   "metadata": {},
   "outputs": [
    {
     "name": "stdout",
     "output_type": "stream",
     "text": [
      "misbah\n",
      "23\n"
     ]
    }
   ],
   "source": [
    "class Person:\n",
    "    def __init__(self, name, age): # constructor\n",
    "        self.name = name # attributes or properties\n",
    "        self.age = age # attributes\n",
    "\n",
    "person1 = Person(\"misbah\",23)\n",
    "print(person1.name)\n",
    "print(person1.age)"
   ]
  },
  {
   "cell_type": "code",
   "execution_count": 9,
   "metadata": {},
   "outputs": [
    {
     "name": "stdout",
     "output_type": "stream",
     "text": [
      "misbah\n",
      "WElcome dear misbah\n"
     ]
    }
   ],
   "source": [
    "class Person:\n",
    "    def __init__(self, name, age):\n",
    "        self.name = name # properties\n",
    "        self.age =  age\n",
    "    \n",
    "    ## creating a new function custom (methods)\n",
    "    def welcome(self):\n",
    "        return f\"WElcome dear {self.name}\"\n",
    "\n",
    "person3 = Person(\"misbah\", 18)\n",
    "print(person3.name)\n",
    "print(person3.welcome())\n"
   ]
  },
  {
   "cell_type": "code",
   "execution_count": 11,
   "metadata": {},
   "outputs": [],
   "source": [
    "# taking inputs from custom func in class\n",
    "class Person:\n",
    "    def __init__(self, name, age):\n",
    "        self.name = name # properties\n",
    "        self.age =  age\n",
    "    \n",
    "    ## creating a new function custom (methods)\n",
    "    def welcome(self):\n",
    "        return f\"WElcome dear {self.name}\"\n",
    "\n",
    "person1 = Person(\"hamza\",20)"
   ]
  },
  {
   "cell_type": "markdown",
   "metadata": {},
   "source": [
    "### class Inheritance"
   ]
  },
  {
   "cell_type": "code",
   "execution_count": 15,
   "metadata": {},
   "outputs": [
    {
     "data": {
      "text/plain": [
       "'adnan'"
      ]
     },
     "execution_count": 15,
     "metadata": {},
     "output_type": "execute_result"
    }
   ],
   "source": [
    "class Student:\n",
    "    def __init__(self, name, age, address):\n",
    "        self.name = name # properties\n",
    "        self.age =  age\n",
    "        self.address = address\n",
    "\n",
    "class Teacher:\n",
    "    def __init__(self, name, age, address):\n",
    "        self.name = name # properties\n",
    "        self.age =  age\n",
    "        self.address = address\n",
    "        \n",
    "student1 = Student(\"hamza\",12,\"swat\") ## register one student\n",
    "teacher1 = Teacher(\"Misbah\",12,\"peshawar\")\n",
    "## teacher have same properties as student we need inheritance to save time\n",
    "## now adding inheritance\n",
    "class Professor(Student):\n",
    "    pass\n",
    "\n",
    "professor1 = Professor(\"adnan\",23,\"karachi\")\n",
    "professor1.name"
   ]
  }
 ],
 "metadata": {
  "kernelspec": {
   "display_name": "Python 3",
   "language": "python",
   "name": "python3"
  },
  "language_info": {
   "codemirror_mode": {
    "name": "ipython",
    "version": 3
   },
   "file_extension": ".py",
   "mimetype": "text/x-python",
   "name": "python",
   "nbconvert_exporter": "python",
   "pygments_lexer": "ipython3",
   "version": "3.12.2"
  }
 },
 "nbformat": 4,
 "nbformat_minor": 2
}
