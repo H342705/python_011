{
 "cells": [
  {
   "cell_type": "markdown",
   "metadata": {},
   "source": [
    "## Today Topics\n",
    "* Introduction to dictionary\n",
    "* Syntax\n",
    "* key naming rule\n",
    "* How to get, update and add data to dictionary "
   ]
  },
  {
   "cell_type": "code",
   "execution_count": 1,
   "metadata": {},
   "outputs": [
    {
     "name": "stdout",
     "output_type": "stream",
     "text": [
      "{'name': 'Hamza'}\n"
     ]
    }
   ],
   "source": [
    "## To store data in key:values pair\n",
    "# values -> string, number, boolean, function, dictionary etc\n",
    "\n",
    "my_dict = {\n",
    "    \"name\": \"Hamza\"\n",
    "}\n",
    "print(my_dict)"
   ]
  },
  {
   "cell_type": "code",
   "execution_count": 2,
   "metadata": {},
   "outputs": [
    {
     "name": "stdout",
     "output_type": "stream",
     "text": [
      "{'name': 'Hamza', 'roll_no': 23, 23: 'hamza'}\n"
     ]
    }
   ],
   "source": [
    "my_dict = {\n",
    "    \"name\": \"Hamza\",\n",
    "    \"roll_no\": 23,\n",
    "    23: \"hamza\"\n",
    "}\n",
    "print(my_dict)"
   ]
  },
  {
   "cell_type": "code",
   "execution_count": 3,
   "metadata": {},
   "outputs": [
    {
     "name": "stdout",
     "output_type": "stream",
     "text": [
      "Hamza\n"
     ]
    }
   ],
   "source": [
    "# custom function\n",
    "def sum():\n",
    "    print(\"Hamza\")\n",
    "sum()"
   ]
  },
  {
   "cell_type": "code",
   "execution_count": 4,
   "metadata": {},
   "outputs": [
    {
     "name": "stdout",
     "output_type": "stream",
     "text": [
      "{'name': 'Hamza', 'roll_no': 23, 'validate': 'hamza', 'topics': ['haza', 'english']}\n"
     ]
    }
   ],
   "source": [
    "my_dict = {\n",
    "    \"name\": \"Hamza\",\n",
    "    \"roll_no\": 23,\n",
    "    \"validate\": 'hamza',\n",
    "    \"topics\": [\"haza\",'english'],\n",
    "}\n",
    "print(my_dict)"
   ]
  },
  {
   "cell_type": "markdown",
   "metadata": {},
   "source": [
    "### Key_naming Rule"
   ]
  },
  {
   "cell_type": "code",
   "execution_count": 5,
   "metadata": {},
   "outputs": [
    {
     "data": {
      "text/plain": [
       "{'name': 789, 'rool': 'hamza'}"
      ]
     },
     "execution_count": 5,
     "metadata": {},
     "output_type": "execute_result"
    }
   ],
   "source": [
    "## same key name with different values\n",
    "my_dict = {\n",
    "    \"name\": 123,\n",
    "    \"rool\": \"hamza\",\n",
    "    \"name\": 789\n",
    "}\n",
    "my_dict"
   ]
  },
  {
   "cell_type": "code",
   "execution_count": 6,
   "metadata": {},
   "outputs": [
    {
     "data": {
      "text/plain": [
       "{'name': 123, 'rool': 'hamza', 'Name': 789}"
      ]
     },
     "execution_count": 6,
     "metadata": {},
     "output_type": "execute_result"
    }
   ],
   "source": [
    "my_dict = {\n",
    "    \"name\": 123,\n",
    "    \"rool\": \"hamza\",\n",
    "    \"Name\": 789\n",
    "}\n",
    "my_dict"
   ]
  },
  {
   "cell_type": "code",
   "execution_count": 7,
   "metadata": {},
   "outputs": [
    {
     "name": "stdout",
     "output_type": "stream",
     "text": [
      "{'s': 'same', 'l': 123, 'g': 'same'}\n"
     ]
    }
   ],
   "source": [
    "## different keys name with same values\n",
    "mt_dict = {\n",
    "    \"s\": \"same\",\n",
    "    \"l\": 123,\n",
    "    \"g\": \"same\"\n",
    "}\n",
    "print(mt_dict)"
   ]
  },
  {
   "cell_type": "markdown",
   "metadata": {},
   "source": [
    "### Getting, updating and adding values to dictionary"
   ]
  },
  {
   "cell_type": "code",
   "execution_count": 8,
   "metadata": {},
   "outputs": [
    {
     "name": "stdout",
     "output_type": "stream",
     "text": [
      "Swat\n"
     ]
    },
    {
     "data": {
      "text/plain": [
       "4"
      ]
     },
     "execution_count": 8,
     "metadata": {},
     "output_type": "execute_result"
    }
   ],
   "source": [
    "## Getting values from dictionary\n",
    "data = {\n",
    "    \"name\": \"Misbah\",\n",
    "    \"roll_no\": 1234,\n",
    "    \"Address\": \"Swat\",\n",
    "    \"Hobbies\": [\"Reading\", \"Exercise\",\"Gaming\"]\n",
    "}\n",
    "print(data[\"Address\"])\n",
    "len(data)"
   ]
  },
  {
   "cell_type": "code",
   "execution_count": 9,
   "metadata": {},
   "outputs": [
    {
     "name": "stdout",
     "output_type": "stream",
     "text": [
      "1234\n"
     ]
    }
   ],
   "source": [
    "print(data[\"roll_no\"])"
   ]
  },
  {
   "cell_type": "code",
   "execution_count": 10,
   "metadata": {},
   "outputs": [
    {
     "name": "stdout",
     "output_type": "stream",
     "text": [
      "['Reading', 'Exercise', 'Gaming']\n"
     ]
    }
   ],
   "source": [
    "print(data[\"Hobbies\"])"
   ]
  },
  {
   "cell_type": "code",
   "execution_count": 11,
   "metadata": {},
   "outputs": [
    {
     "name": "stdout",
     "output_type": "stream",
     "text": [
      "Exercise\n"
     ]
    }
   ],
   "source": [
    "print(data[\"Hobbies\"][1])"
   ]
  },
  {
   "cell_type": "code",
   "execution_count": 12,
   "metadata": {},
   "outputs": [
    {
     "name": "stdout",
     "output_type": "stream",
     "text": [
      "before  {'name': 'Misbah', 'roll_no': 1234, 'Address': 'Swat', 'Hobbies': ['Reading', 'Exercise', 'Gaming']}\n",
      "after  {'name': 'Misbah', 'roll_no': 6789, 'Address': 'Swat', 'Hobbies': ['Reading', 'Exercise', 'Gaming']}\n"
     ]
    }
   ],
   "source": [
    "## Upating values of dictionary\n",
    "data = {\n",
    "    \"name\": \"Misbah\",\n",
    "    \"roll_no\": 1234,\n",
    "    \"Address\": \"Swat\",\n",
    "    \"Hobbies\": [\"Reading\", \"Exercise\",\"Gaming\"]\n",
    "}\n",
    "print(\"before \",data)\n",
    "data[\"roll_no\"] = 6789   ## here we change the values of roll_no with some new values\n",
    "print(\"after \",data)"
   ]
  },
  {
   "cell_type": "code",
   "execution_count": 13,
   "metadata": {},
   "outputs": [
    {
     "name": "stdout",
     "output_type": "stream",
     "text": [
      "{'name': 'Misbah', 'roll_no': 6789, 'Address': 'Swat', 'Hobbies': [12, 23, 45, 89]}\n"
     ]
    }
   ],
   "source": [
    "## changing hobbies value\n",
    "data[\"Hobbies\"] = [12,23,45,89]\n",
    "print(data)"
   ]
  },
  {
   "cell_type": "code",
   "execution_count": 14,
   "metadata": {},
   "outputs": [
    {
     "name": "stdout",
     "output_type": "stream",
     "text": [
      "{'name': 'Misbah', 'roll_no': 6789, 'Address': 'Swat', 'Hobbies': [12, 66, 45, 89]}\n"
     ]
    }
   ],
   "source": [
    "## changing hobbies specific value\n",
    "data[\"Hobbies\"][1] = 66\n",
    "print(data)"
   ]
  },
  {
   "cell_type": "code",
   "execution_count": 15,
   "metadata": {},
   "outputs": [
    {
     "name": "stdout",
     "output_type": "stream",
     "text": [
      "{'name': 'Misbah', 'roll_no': 1234, 'Address': 'Swat', 'Hobbies': ['Reading', 'Exercise', 'Gaming'], 'company': 'Pakistan'}\n"
     ]
    }
   ],
   "source": [
    "## adding new data to dictionary\n",
    "data = {\n",
    "    \"name\": \"Misbah\",\n",
    "    \"roll_no\": 1234,\n",
    "    \"Address\": \"Swat\",\n",
    "    \"Hobbies\": [\"Reading\", \"Exercise\",\"Gaming\"]\n",
    "}\n",
    "data[\"company\"] = \"Pakistan\"\n",
    "print(data)"
   ]
  }
 ],
 "metadata": {
  "kernelspec": {
   "display_name": "Python 3",
   "language": "python",
   "name": "python3"
  },
  "language_info": {
   "codemirror_mode": {
    "name": "ipython",
    "version": 3
   },
   "file_extension": ".py",
   "mimetype": "text/x-python",
   "name": "python",
   "nbconvert_exporter": "python",
   "pygments_lexer": "ipython3",
   "version": "3.12.2"
  }
 },
 "nbformat": 4,
 "nbformat_minor": 2
}
