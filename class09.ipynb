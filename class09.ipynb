{
 "cells": [
  {
   "cell_type": "markdown",
   "metadata": {},
   "source": [
    "## Today Topics\n",
    "* continue\n",
    "* function\n",
    "    * positional, keyword arguments\n",
    "    * arbitrary arguments *"
   ]
  },
  {
   "cell_type": "code",
   "execution_count": 1,
   "metadata": {},
   "outputs": [
    {
     "name": "stdout",
     "output_type": "stream",
     "text": [
      "I am not reminder equal to zero 1\n",
      "I am not reminder equal to zero 3\n",
      "I am not reminder equal to zero 5\n"
     ]
    }
   ],
   "source": [
    "## continue\n",
    "my_num = [1,2,3,4,5,6]\n",
    "for num in my_num:\n",
    "    if num % 2 == 0: \n",
    "        continue # skip that values\n",
    "    else:\n",
    "        print(f\"I am not reminder equal to zero {num}\")"
   ]
  },
  {
   "cell_type": "markdown",
   "metadata": {},
   "source": [
    "### Functions\n",
    "* Re-usables , readable, oragizable"
   ]
  },
  {
   "cell_type": "code",
   "execution_count": 3,
   "metadata": {},
   "outputs": [],
   "source": [
    "## syntax \n",
    "# def function_name(parameters):\n",
    "    # function_body \n",
    "# function_name(args)  calling function"
   ]
  },
  {
   "cell_type": "markdown",
   "metadata": {},
   "source": [
    "## function with parameters"
   ]
  },
  {
   "cell_type": "code",
   "execution_count": 4,
   "metadata": {},
   "outputs": [
    {
     "data": {
      "text/plain": [
       "8"
      ]
     },
     "execution_count": 4,
     "metadata": {},
     "output_type": "execute_result"
    }
   ],
   "source": [
    "def sum(x, y):\n",
    "    return x+y ## return means that when someone call this function he will get in response the result of return\n",
    "\n",
    "## calling the function\n",
    "sum(7,1)"
   ]
  },
  {
   "cell_type": "markdown",
   "metadata": {},
   "source": [
    "## function without parameters"
   ]
  },
  {
   "cell_type": "code",
   "execution_count": 5,
   "metadata": {},
   "outputs": [
    {
     "data": {
      "text/plain": [
       "'I am function without parameters'"
      ]
     },
     "execution_count": 5,
     "metadata": {},
     "output_type": "execute_result"
    }
   ],
   "source": [
    "def greet():\n",
    "    return \"I am function without parameters\"\n",
    "\n",
    "greet()"
   ]
  },
  {
   "cell_type": "code",
   "execution_count": 6,
   "metadata": {},
   "outputs": [
    {
     "name": "stdout",
     "output_type": "stream",
     "text": [
      "I am function without parameters\n"
     ]
    }
   ],
   "source": [
    "def greet():\n",
    "    print(\"I am function without parameters\")\n",
    "\n",
    "greet()"
   ]
  },
  {
   "cell_type": "code",
   "execution_count": 7,
   "metadata": {},
   "outputs": [
    {
     "ename": "TypeError",
     "evalue": "greet() takes 0 positional arguments but 1 was given",
     "output_type": "error",
     "traceback": [
      "\u001b[1;31m---------------------------------------------------------------------------\u001b[0m",
      "\u001b[1;31mTypeError\u001b[0m                                 Traceback (most recent call last)",
      "Cell \u001b[1;32mIn[7], line 4\u001b[0m\n\u001b[0;32m      1\u001b[0m \u001b[38;5;28;01mdef\u001b[39;00m \u001b[38;5;21mgreet\u001b[39m():\n\u001b[0;32m      2\u001b[0m     \u001b[38;5;28mprint\u001b[39m(\u001b[38;5;124m\"\u001b[39m\u001b[38;5;124mI am function without parameters\u001b[39m\u001b[38;5;124m\"\u001b[39m)\n\u001b[1;32m----> 4\u001b[0m \u001b[43mgreet\u001b[49m\u001b[43m(\u001b[49m\u001b[38;5;124;43m\"\u001b[39;49m\u001b[38;5;124;43mhamza\u001b[39;49m\u001b[38;5;124;43m\"\u001b[39;49m\u001b[43m)\u001b[49m\n",
      "\u001b[1;31mTypeError\u001b[0m: greet() takes 0 positional arguments but 1 was given"
     ]
    }
   ],
   "source": [
    "def greet():\n",
    "    print(\"I am function without parameters\")\n",
    "\n",
    "greet(\"hamza\") ## we not define any parameters "
   ]
  },
  {
   "cell_type": "code",
   "execution_count": 8,
   "metadata": {},
   "outputs": [
    {
     "name": "stdout",
     "output_type": "stream",
     "text": [
      "I am function without parameters\n"
     ]
    }
   ],
   "source": [
    "# parameter=>1st define to get values from outside\n",
    "def greet(parameter):\n",
    "    print(\"I am function without parameters\")\n",
    "\n",
    "greet(\"hamza\")\n",
    "# arguments=>2nd pass values when calling\n"
   ]
  },
  {
   "cell_type": "code",
   "execution_count": 9,
   "metadata": {},
   "outputs": [
    {
     "name": "stdout",
     "output_type": "stream",
     "text": [
      "I am function without parameters hamza\n"
     ]
    }
   ],
   "source": [
    "# parameter=>1st define to get values from outside\n",
    "def greet(parameter):\n",
    "    print(f\"I am function without parameters {parameter}\")\n",
    "                                        # used that parameters inside function body\n",
    "\n",
    "greet(\"hamza\")\n",
    "# arguments=>2nd pass values when calling"
   ]
  },
  {
   "cell_type": "code",
   "execution_count": 10,
   "metadata": {},
   "outputs": [
    {
     "name": "stdout",
     "output_type": "stream",
     "text": [
      "I am function without parameters arabi\n"
     ]
    }
   ],
   "source": [
    "greet(\"arabi\")"
   ]
  },
  {
   "cell_type": "markdown",
   "metadata": {},
   "source": [
    "## function arguments and parameters\n",
    "* positional and keywords arguments\n",
    "* default parameter\n",
    "* arbitrary arguments"
   ]
  },
  {
   "cell_type": "code",
   "execution_count": 13,
   "metadata": {},
   "outputs": [
    {
     "data": {
      "text/plain": [
       "'Hello welcome Misbah'"
      ]
     },
     "execution_count": 13,
     "metadata": {},
     "output_type": "execute_result"
    }
   ],
   "source": [
    "def greet(name):\n",
    "    result = f\"Hello welcome {name}\"\n",
    "    return result\n",
    "\n",
    "greet(\"Misbah\")  # positional arguments"
   ]
  },
  {
   "cell_type": "code",
   "execution_count": 18,
   "metadata": {},
   "outputs": [
    {
     "data": {
      "text/plain": [
       "'power is 9, and multiply is 6, and in the last the sum is 5'"
      ]
     },
     "execution_count": 18,
     "metadata": {},
     "output_type": "execute_result"
    }
   ],
   "source": [
    "def sum(x , y):\n",
    "    power1 =  x ** y \n",
    "    multiply = x * y\n",
    "    sum = x + y\n",
    "    return f\"power is {power1}, and multiply is {multiply}, and in the last the sum is {sum}\"\n",
    "sum(3, 2)"
   ]
  },
  {
   "cell_type": "code",
   "execution_count": 20,
   "metadata": {},
   "outputs": [
    {
     "data": {
      "text/plain": [
       "9"
      ]
     },
     "execution_count": 20,
     "metadata": {},
     "output_type": "execute_result"
    }
   ],
   "source": [
    "def sum(x , y):\n",
    "    power1 =  x ** y\n",
    "    return power1\n",
    "sum(3, 2)   ## positional args"
   ]
  },
  {
   "cell_type": "code",
   "execution_count": 21,
   "metadata": {},
   "outputs": [
    {
     "data": {
      "text/plain": [
       "8"
      ]
     },
     "execution_count": 21,
     "metadata": {},
     "output_type": "execute_result"
    }
   ],
   "source": [
    "def sum(x , y):\n",
    "    power1 =  x ** y\n",
    "    return power1\n",
    "sum(2, 3)   ## positional args"
   ]
  },
  {
   "cell_type": "code",
   "execution_count": 23,
   "metadata": {},
   "outputs": [
    {
     "data": {
      "text/plain": [
       "9"
      ]
     },
     "execution_count": 23,
     "metadata": {},
     "output_type": "execute_result"
    }
   ],
   "source": [
    "## keywords args\n",
    "def sum(x , y):\n",
    "    power1 =  x ** y\n",
    "    return power1\n",
    "sum(x=3,y=2)  ## keywords args "
   ]
  },
  {
   "cell_type": "code",
   "execution_count": 24,
   "metadata": {},
   "outputs": [
    {
     "data": {
      "text/plain": [
       "9"
      ]
     },
     "execution_count": 24,
     "metadata": {},
     "output_type": "execute_result"
    }
   ],
   "source": [
    "## keywords args\n",
    "def sum(x , y):\n",
    "    power1 =  x ** y\n",
    "    return power1\n",
    "sum(y=2,x=3)  ## keywords args "
   ]
  },
  {
   "cell_type": "code",
   "execution_count": 27,
   "metadata": {},
   "outputs": [
    {
     "name": "stdout",
     "output_type": "stream",
     "text": [
      "I am learning function\n"
     ]
    }
   ],
   "source": [
    "## arbitrary arguments \n",
    "## when you want to pass many values to function as arguments\n",
    "def great(*x):  ## astericks used before parameter name\n",
    "    print('I am learning function')\n",
    "\n",
    "great(1,\"hamza\") ## if you pass or not any values"
   ]
  },
  {
   "cell_type": "code",
   "execution_count": 30,
   "metadata": {},
   "outputs": [
    {
     "name": "stdout",
     "output_type": "stream",
     "text": [
      "I am learning function 1\n"
     ]
    }
   ],
   "source": [
    "def great(*x):  ## astericks used before parameter name\n",
    "    print(f'I am learning function {x[0]}')\n",
    "\n",
    "great(1)"
   ]
  },
  {
   "cell_type": "code",
   "execution_count": 31,
   "metadata": {},
   "outputs": [
    {
     "name": "stdout",
     "output_type": "stream",
     "text": [
      "I am learning function hamza\n"
     ]
    }
   ],
   "source": [
    "def great(*x):  ## astericks used before parameter name\n",
    "    print(f'I am learning function {x[1]}')\n",
    "\n",
    "great(1,\"hamza\")"
   ]
  },
  {
   "cell_type": "code",
   "execution_count": 32,
   "metadata": {},
   "outputs": [
    {
     "name": "stdout",
     "output_type": "stream",
     "text": [
      "I am learning function hamza and also 1\n"
     ]
    }
   ],
   "source": [
    "def great(*x):  ## astericks used before parameter name\n",
    "    print(f'I am learning function {x[1]} and also {x[0]}')\n",
    "\n",
    "great(1,\"hamza\")"
   ]
  },
  {
   "cell_type": "code",
   "execution_count": 34,
   "metadata": {},
   "outputs": [
    {
     "name": "stdout",
     "output_type": "stream",
     "text": [
      "I am learning function\n"
     ]
    }
   ],
   "source": [
    "def great(y,*x):  ## astericks used before parameter name\n",
    "    print(f'I am learning function')\n",
    "\n",
    "great(9)"
   ]
  }
 ],
 "metadata": {
  "kernelspec": {
   "display_name": "Python 3",
   "language": "python",
   "name": "python3"
  },
  "language_info": {
   "codemirror_mode": {
    "name": "ipython",
    "version": 3
   },
   "file_extension": ".py",
   "mimetype": "text/x-python",
   "name": "python",
   "nbconvert_exporter": "python",
   "pygments_lexer": "ipython3",
   "version": "3.12.2"
  }
 },
 "nbformat": 4,
 "nbformat_minor": 2
}
