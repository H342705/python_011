{
 "cells": [
  {
   "cell_type": "code",
   "execution_count": 6,
   "metadata": {},
   "outputs": [
    {
     "name": "stdout",
     "output_type": "stream",
     "text": [
      "Error: Division by zero is not allowed.\n",
      "2.0\n"
     ]
    }
   ],
   "source": [
    "while True:\n",
    "    try:\n",
    "        # Prompt the user for the first number and convert it to a float\n",
    "        num1 = float(input(\"Enter a number: \"))\n",
    "\n",
    "        # Prompt the user for the second number and convert it to a float\n",
    "        num2 = float(input(\"Enter another number: \"))\n",
    "\n",
    "        # Check if the second number is zero and handle division by zero error\n",
    "        if num2 == 0:\n",
    "            print(\"Error: Division by zero is not allowed.\")\n",
    "        else:\n",
    "            # Perform the division and store the result\n",
    "            result = num1 / num2\n",
    "\n",
    "            # Print the result\n",
    "            print(result)\n",
    "\n",
    "            # Exit the loop after successful calculation\n",
    "            break\n",
    "\n",
    "    # Handle invalid input (non-numeric values)\n",
    "    except ValueError:\n",
    "        print(\"Invalid input. Please enter numbers only.\")"
   ]
  }
 ],
 "metadata": {
  "kernelspec": {
   "display_name": "Python 3",
   "language": "python",
   "name": "python3"
  },
  "language_info": {
   "codemirror_mode": {
    "name": "ipython",
    "version": 3
   },
   "file_extension": ".py",
   "mimetype": "text/x-python",
   "name": "python",
   "nbconvert_exporter": "python",
   "pygments_lexer": "ipython3",
   "version": "3.12.0"
  }
 },
 "nbformat": 4,
 "nbformat_minor": 2
}
