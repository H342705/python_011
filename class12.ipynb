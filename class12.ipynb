{
 "cells": [
  {
   "cell_type": "markdown",
   "metadata": {},
   "source": [
    "## Today Topics\n",
    "* Dictionary Methods\n",
    "    * Key, Value, Item\n",
    "    * pop, popitem, del, clear\n",
    "* Loop on Dictonary"
   ]
  },
  {
   "cell_type": "code",
   "execution_count": 4,
   "metadata": {},
   "outputs": [
    {
     "data": {
      "text/plain": [
       "dict_keys(['name', 'roll_no', 'Education'])"
      ]
     },
     "execution_count": 4,
     "metadata": {},
     "output_type": "execute_result"
    }
   ],
   "source": [
    "## methods key\n",
    "my_dict = {\n",
    "    \"name\": \"Hamza\",\n",
    "    \"roll_no\": 12345,\n",
    "    \"Education\": \"Fsc\"\n",
    "}\n",
    "my_dict.keys()  \n",
    "# return keys in list "
   ]
  },
  {
   "cell_type": "code",
   "execution_count": 12,
   "metadata": {},
   "outputs": [
    {
     "name": "stdout",
     "output_type": "stream",
     "text": [
      "dict_keys(['name', 'roll_no', 'Education'])\n"
     ]
    }
   ],
   "source": [
    "my_keys = my_dict.keys()  \n",
    "print(my_keys)"
   ]
  },
  {
   "cell_type": "code",
   "execution_count": 5,
   "metadata": {},
   "outputs": [
    {
     "data": {
      "text/plain": [
       "'Hamza'"
      ]
     },
     "execution_count": 5,
     "metadata": {},
     "output_type": "execute_result"
    }
   ],
   "source": [
    "my_dict[\"name\"]"
   ]
  },
  {
   "cell_type": "code",
   "execution_count": 6,
   "metadata": {},
   "outputs": [
    {
     "name": "stdout",
     "output_type": "stream",
     "text": [
      "name\n",
      "roll_no\n",
      "Education\n"
     ]
    }
   ],
   "source": [
    "for k in my_dict.keys():\n",
    "    print(k)"
   ]
  },
  {
   "cell_type": "code",
   "execution_count": 7,
   "metadata": {},
   "outputs": [
    {
     "name": "stdout",
     "output_type": "stream",
     "text": [
      "Hamza\n",
      "12345\n",
      "Fsc\n"
     ]
    }
   ],
   "source": [
    "for k in my_dict.keys():  # getting values from keys\n",
    "    print(my_dict[k])"
   ]
  },
  {
   "cell_type": "code",
   "execution_count": 14,
   "metadata": {},
   "outputs": [
    {
     "name": "stdout",
     "output_type": "stream",
     "text": [
      "12345\n"
     ]
    }
   ],
   "source": [
    "for k in my_dict.keys():  # getting values from keys\n",
    "    if k == \"roll_no\":\n",
    "        print(my_dict[k]) # values printing of roll_no\n"
   ]
  },
  {
   "cell_type": "code",
   "execution_count": 8,
   "metadata": {},
   "outputs": [
    {
     "data": {
      "text/plain": [
       "dict_values(['Hamza', 12345, 'Fsc'])"
      ]
     },
     "execution_count": 8,
     "metadata": {},
     "output_type": "execute_result"
    }
   ],
   "source": [
    "# values methods\n",
    "my_dict = {\n",
    "    \"name\": \"Hamza\",\n",
    "    \"roll_no\": 12345,\n",
    "    \"Education\": \"Fsc\"\n",
    "}\n",
    "my_dict.values()"
   ]
  },
  {
   "cell_type": "code",
   "execution_count": 15,
   "metadata": {},
   "outputs": [
    {
     "data": {
      "text/plain": [
       "dict_items([('name', 'Hamza'), ('roll_no', 12345), ('Education', 'Fsc')])"
      ]
     },
     "execution_count": 15,
     "metadata": {},
     "output_type": "execute_result"
    }
   ],
   "source": [
    "# item -> return keys and values in tuple form\n",
    "my_dict = {\n",
    "    \"name\": \"Hamza\",\n",
    "    \"roll_no\": 12345,\n",
    "    \"Education\": \"Fsc\"\n",
    "}\n",
    "my_dict.items()"
   ]
  },
  {
   "cell_type": "code",
   "execution_count": 16,
   "metadata": {},
   "outputs": [
    {
     "name": "stdout",
     "output_type": "stream",
     "text": [
      "{'name': 'Hamza', 'roll_no': 12345, 'Education': 'Fsc'}\n",
      "{'name': 'Hamza', 'roll_no': 12345}\n"
     ]
    }
   ],
   "source": [
    "## popitems methods\n",
    "my_dict = {\n",
    "    \"name\": \"Hamza\",\n",
    "    \"roll_no\": 12345,\n",
    "    \"Education\": \"Fsc\"\n",
    "}\n",
    "print(my_dict)\n",
    "my_dict.popitem() ## remove the last key, values\n",
    "print(my_dict)"
   ]
  },
  {
   "cell_type": "code",
   "execution_count": 17,
   "metadata": {},
   "outputs": [
    {
     "name": "stdout",
     "output_type": "stream",
     "text": [
      "{'name': 'Hamza', 'Education': 'Fsc'}\n"
     ]
    }
   ],
   "source": [
    "# pop methods\n",
    "my_dict = {\n",
    "    \"name\": \"Hamza\",\n",
    "    \"roll_no\": 12345,\n",
    "    \"Education\": \"Fsc\"\n",
    "}\n",
    "my_dict.pop(\"roll_no\") # specific value remove\n",
    "print(my_dict)"
   ]
  },
  {
   "cell_type": "code",
   "execution_count": 18,
   "metadata": {},
   "outputs": [
    {
     "name": "stdout",
     "output_type": "stream",
     "text": [
      "{}\n"
     ]
    }
   ],
   "source": [
    "# clear methods\n",
    "my_dict.clear()\n",
    "print(my_dict)"
   ]
  },
  {
   "cell_type": "code",
   "execution_count": 23,
   "metadata": {},
   "outputs": [
    {
     "data": {
      "text/plain": [
       "{'Education': 'Fsc'}"
      ]
     },
     "execution_count": 23,
     "metadata": {},
     "output_type": "execute_result"
    }
   ],
   "source": [
    "# del methods\n",
    "my_dict = {\n",
    "    \"name\": \"Hamza\",\n",
    "    \"roll_no\": 12345,\n",
    "    \"Education\": \"Fsc\"\n",
    "}\n",
    "del my_dict['name']\n",
    "del my_dict['roll_no']\n",
    "my_dict"
   ]
  },
  {
   "cell_type": "markdown",
   "metadata": {},
   "source": [
    "### loops on dictionary"
   ]
  },
  {
   "cell_type": "code",
   "execution_count": 27,
   "metadata": {},
   "outputs": [
    {
     "name": "stdout",
     "output_type": "stream",
     "text": [
      "name Hamza\n",
      "roll_no 12345\n",
      "Education Fsc\n"
     ]
    }
   ],
   "source": [
    "my_dict = {\n",
    "    \"name\": \"Hamza\",\n",
    "    \"roll_no\": 12345,\n",
    "    \"Education\": \"Fsc\"\n",
    "}\n",
    "for val,vl in my_dict.items():\n",
    "    print(val, vl)"
   ]
  },
  {
   "cell_type": "code",
   "execution_count": 28,
   "metadata": {},
   "outputs": [
    {
     "name": "stdout",
     "output_type": "stream",
     "text": [
      "Hamza\n",
      "12345\n",
      "Fsc\n"
     ]
    }
   ],
   "source": [
    "my_dict = {\n",
    "    \"name\": \"Hamza\",\n",
    "    \"roll_no\": 12345,\n",
    "    \"Education\": \"Fsc\"\n",
    "}\n",
    "for val in my_dict.values():\n",
    "    print(val)"
   ]
  },
  {
   "cell_type": "code",
   "execution_count": 29,
   "metadata": {},
   "outputs": [
    {
     "name": "stdout",
     "output_type": "stream",
     "text": [
      "Hamza\n",
      "12345\n",
      "Fsc\n"
     ]
    }
   ],
   "source": [
    "my_dict = {\n",
    "    \"name\": \"Hamza\",\n",
    "    \"roll_no\": 12345,\n",
    "    \"Education\": \"Fsc\"\n",
    "}\n",
    "for val,vl in my_dict.items():\n",
    "    print(vl)"
   ]
  }
 ],
 "metadata": {
  "kernelspec": {
   "display_name": "Python 3",
   "language": "python",
   "name": "python3"
  },
  "language_info": {
   "codemirror_mode": {
    "name": "ipython",
    "version": 3
   },
   "file_extension": ".py",
   "mimetype": "text/x-python",
   "name": "python",
   "nbconvert_exporter": "python",
   "pygments_lexer": "ipython3",
   "version": "3.12.2"
  }
 },
 "nbformat": 4,
 "nbformat_minor": 2
}
