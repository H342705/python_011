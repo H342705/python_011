{
 "cells": [
  {
   "cell_type": "markdown",
   "metadata": {},
   "source": [
    "## Today Topics\n",
    "* default parameter\n",
    "* Built-in Function:\n",
    "    * len, print, etc\n",
    "* HOw to Use GitHub"
   ]
  },
  {
   "cell_type": "code",
   "execution_count": 2,
   "metadata": {},
   "outputs": [],
   "source": [
    "# deafult parameter\n",
    "def my_sum(num1, num2):\n",
    "    return num1 + num2\n",
    "    # print(num1 + num2)\n",
    "my_sum(3,4) ## due to return th value is stored here, but we not print the value\n",
    "arr = [1,2]"
   ]
  },
  {
   "cell_type": "code",
   "execution_count": 3,
   "metadata": {},
   "outputs": [
    {
     "name": "stdout",
     "output_type": "stream",
     "text": [
      "7\n"
     ]
    }
   ],
   "source": [
    "# deafult parameter\n",
    "def my_sum(num1, num2):\n",
    "    return num1 + num2\n",
    "    # print(num1 + num2)\n",
    "print(my_sum(3,4)) ## stored value print directly\n",
    "arr = [1,2]"
   ]
  },
  {
   "cell_type": "code",
   "execution_count": 4,
   "metadata": {},
   "outputs": [
    {
     "name": "stdout",
     "output_type": "stream",
     "text": [
      "5\n"
     ]
    }
   ],
   "source": [
    "def my_sum(num1, num2):\n",
    "    return num1 + num2\n",
    "    # print(num1 + num2)\n",
    "res = my_sum(2,3) ## here the return value will now stored in res variable\n",
    "arr = [1,2]\n",
    "print(res)"
   ]
  },
  {
   "cell_type": "code",
   "execution_count": 5,
   "metadata": {},
   "outputs": [
    {
     "name": "stdout",
     "output_type": "stream",
     "text": [
      "7\n"
     ]
    }
   ],
   "source": [
    "def my_sum(num1, num2):\n",
    "    # return num1 + num2\n",
    "    print(num1 + num2)\n",
    "my_sum(3,4)\n",
    "arr = [1,2]"
   ]
  },
  {
   "cell_type": "code",
   "execution_count": 6,
   "metadata": {},
   "outputs": [
    {
     "name": "stdout",
     "output_type": "stream",
     "text": [
      "7\n",
      "None\n"
     ]
    }
   ],
   "source": [
    "def my_sum(num1, num2):\n",
    "    # return num1 + num2\n",
    "    print(num1 + num2)\n",
    "print(my_sum(3,4))\n",
    "arr = [1,2]"
   ]
  },
  {
   "cell_type": "code",
   "execution_count": 8,
   "metadata": {},
   "outputs": [
    {
     "name": "stdout",
     "output_type": "stream",
     "text": [
      "5\n",
      "res None\n"
     ]
    }
   ],
   "source": [
    "def my_sum(num1, num2):\n",
    "    # return num1 + num2\n",
    "    print(num1 + num2)\n",
    "res = my_sum(2,3) \n",
    "arr = [1,2]\n",
    "print(\"res\",res)"
   ]
  },
  {
   "cell_type": "markdown",
   "metadata": {},
   "source": [
    "### Default Parameter"
   ]
  },
  {
   "cell_type": "code",
   "execution_count": 11,
   "metadata": {},
   "outputs": [
    {
     "name": "stdout",
     "output_type": "stream",
     "text": [
      "7\n"
     ]
    }
   ],
   "source": [
    "def my_sum(num1, num2):\n",
    "    return num1 + num2\n",
    "res = my_sum(3,4)\n",
    "print(res)"
   ]
  },
  {
   "cell_type": "code",
   "execution_count": 12,
   "metadata": {},
   "outputs": [
    {
     "ename": "TypeError",
     "evalue": "my_sum() missing 1 required positional argument: 'num2'",
     "output_type": "error",
     "traceback": [
      "\u001b[1;31m---------------------------------------------------------------------------\u001b[0m",
      "\u001b[1;31mTypeError\u001b[0m                                 Traceback (most recent call last)",
      "Cell \u001b[1;32mIn[12], line 3\u001b[0m\n\u001b[0;32m      1\u001b[0m \u001b[38;5;28;01mdef\u001b[39;00m \u001b[38;5;21mmy_sum\u001b[39m(num1, num2):\n\u001b[0;32m      2\u001b[0m     \u001b[38;5;28;01mreturn\u001b[39;00m num1 \u001b[38;5;241m+\u001b[39m num2\n\u001b[1;32m----> 3\u001b[0m res \u001b[38;5;241m=\u001b[39m \u001b[43mmy_sum\u001b[49m\u001b[43m(\u001b[49m\u001b[38;5;241;43m3\u001b[39;49m\u001b[43m)\u001b[49m \u001b[38;5;66;03m## here I don't want to pass the second value\u001b[39;00m\n\u001b[0;32m      4\u001b[0m \u001b[38;5;28mprint\u001b[39m(res)\n",
      "\u001b[1;31mTypeError\u001b[0m: my_sum() missing 1 required positional argument: 'num2'"
     ]
    }
   ],
   "source": [
    "def my_sum(num1, num2):\n",
    "    return num1 + num2\n",
    "res = my_sum(3) ## here I don't want to pass the second value\n",
    "print(res) # throw error"
   ]
  },
  {
   "cell_type": "code",
   "execution_count": 15,
   "metadata": {},
   "outputs": [
    {
     "name": "stdout",
     "output_type": "stream",
     "text": [
      "11\n",
      "13\n"
     ]
    }
   ],
   "source": [
    "## here we use the concept of default parameter\n",
    "def my_sum(num1, num2=8): ## in case you don't get any value from args, then it will use this default value \n",
    "    return num1 + num2\n",
    "res = my_sum(3) ## here I don't want to pass the second value\\\n",
    "res2 = my_sum(5)\n",
    "print(res)\n",
    "print(res2)"
   ]
  },
  {
   "cell_type": "code",
   "execution_count": 16,
   "metadata": {},
   "outputs": [
    {
     "name": "stdout",
     "output_type": "stream",
     "text": [
      "11\n",
      "13\n",
      "11\n"
     ]
    }
   ],
   "source": [
    "## here we use the concept of default parameter\n",
    "def my_sum(num1, num2=8): ## in case you don't get any value from args, then it will use this default value \n",
    "    return num1 + num2\n",
    "res = my_sum(3) ## here I don't want to pass the second value\\\n",
    "res2 = my_sum(5)\n",
    "res3 = my_sum(5,6)\n",
    "print(res)\n",
    "print(res2)\n",
    "print(res3)"
   ]
  },
  {
   "cell_type": "markdown",
   "metadata": {},
   "source": [
    "### Built-In function"
   ]
  },
  {
   "cell_type": "code",
   "execution_count": 17,
   "metadata": {},
   "outputs": [
    {
     "name": "stdout",
     "output_type": "stream",
     "text": [
      "hamza\n"
     ]
    }
   ],
   "source": [
    "## print()\n",
    "print(\"hamza\") \n"
   ]
  },
  {
   "cell_type": "code",
   "execution_count": 18,
   "metadata": {},
   "outputs": [
    {
     "data": {
      "text/plain": [
       "5"
      ]
     },
     "execution_count": 18,
     "metadata": {},
     "output_type": "execute_result"
    }
   ],
   "source": [
    "name = \"hamza\"\n",
    "# len()\n",
    "len(name)"
   ]
  }
 ],
 "metadata": {
  "kernelspec": {
   "display_name": "Python 3",
   "language": "python",
   "name": "python3"
  },
  "language_info": {
   "codemirror_mode": {
    "name": "ipython",
    "version": 3
   },
   "file_extension": ".py",
   "mimetype": "text/x-python",
   "name": "python",
   "nbconvert_exporter": "python",
   "pygments_lexer": "ipython3",
   "version": "3.12.2"
  }
 },
 "nbformat": 4,
 "nbformat_minor": 2
}
